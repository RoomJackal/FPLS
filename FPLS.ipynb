{
 "cells": [
  {
   "cell_type": "code",
   "execution_count": 1,
   "id": "1b703f72-1720-4666-97b3-7589204779c5",
   "metadata": {},
   "outputs": [],
   "source": [
    "# Импорт библиотек\n",
    "\n",
    "import os # Для взаимодействия с ОС\n",
    "import shutil # Для управления файлами и папками."
   ]
  },
  {
   "cell_type": "markdown",
   "id": "560d3e35-1979-4c5a-bd26-3263213e982c",
   "metadata": {},
   "source": [
    "## Copying to the Repository"
   ]
  },
  {
   "cell_type": "code",
   "execution_count": 3,
   "id": "4a4c6ae9-4488-4516-a45e-e565104535c6",
   "metadata": {},
   "outputs": [
    {
     "name": "stdout",
     "output_type": "stream",
     "text": [
      "Файлы успешно скопированы в репозиторий\n"
     ]
    }
   ],
   "source": [
    "# Пути к коренной директории и директории с репозиторием\n",
    "source_folder = 'C:/Users/Lev Tsvetkov/ML-Skillbox/Задачи по программированию/РСПП/'\n",
    "git_folder = 'C:/GitHub/FPLS/'\n",
    "\n",
    "# Создание целевой директории\n",
    "os.makedirs(git_folder, exist_ok = True)\n",
    "\n",
    "# Копирование файлов из исходной директории в репозиторий\n",
    "for filename in os.listdir(source_folder):\n",
    "    source_path = os.path.join(source_folder, filename) # Полный путь к файлу в корневой директории\n",
    "    git_path = os.path.join(git_folder, filename) # Полный путь к директории с репозиторием\n",
    "\n",
    "    if filename != '.ipynb_checkpoints': # Исключение папки при копировании \n",
    "        if os.path.isdir(source_path): # Если это директория, то копируем её с содержимым\n",
    "            shutil.rmtree(git_path, ignore_errors = True) # Удаление старой директории   \n",
    "            shutil.copytree(source_path, git_path) # Копирование директории\n",
    "        else: # Иначе копируем файл\n",
    "            shutil.copy2(source_path, git_path) # Копирование файла\n",
    "\n",
    "print('Файлы успешно скопированы в репозиторий')"
   ]
  },
  {
   "cell_type": "code",
   "execution_count": null,
   "id": "45dc7cbd-b1a4-4bd8-840a-4a7032c6ffcc",
   "metadata": {},
   "outputs": [],
   "source": []
  }
 ],
 "metadata": {
  "kernelspec": {
   "display_name": "Python 3 (ipykernel)",
   "language": "python",
   "name": "python3"
  },
  "language_info": {
   "codemirror_mode": {
    "name": "ipython",
    "version": 3
   },
   "file_extension": ".py",
   "mimetype": "text/x-python",
   "name": "python",
   "nbconvert_exporter": "python",
   "pygments_lexer": "ipython3",
   "version": "3.12.3"
  }
 },
 "nbformat": 4,
 "nbformat_minor": 5
}
